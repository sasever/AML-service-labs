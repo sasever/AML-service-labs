{
 "cells": [
  {
   "cell_type": "markdown",
   "metadata": {},
   "source": [
    "# Lab 4 - Model Training with AutoML"
   ]
  },
  {
   "cell_type": "markdown",
   "metadata": {},
   "source": [
    "In this lab you will us the automated machine learning (Auto ML) capabilities within the Azure Machine Learning service to automatically train multiple models with varying algorithms and hyperparameters, select the best performing model and register that model."
   ]
  },
  {
   "cell_type": "markdown",
   "metadata": {},
   "source": [
    "## Download the datasets"
   ]
  },
  {
   "cell_type": "markdown",
   "metadata": {},
   "source": [
    "The following cell will download the dataset used by this lab. Click into the following cell and use `Shift + Enter` to execute it"
   ]
  },
  {
   "cell_type": "code",
   "execution_count": 1,
   "metadata": {},
   "outputs": [
    {
     "name": "stdout",
     "output_type": "stream",
     "text": [
      "Current working directory is  C:\\Users\\sasever\\Desktop\\SelfLearning\\AzureML\\AML-service-labs-master\\starter-artifacts\\jupyter\\azure-ml-labs\\04-automl\n"
     ]
    },
    {
     "data": {
      "text/plain": [
       "['UsedCars_Affordability.csv']"
      ]
     },
     "execution_count": 1,
     "metadata": {},
     "output_type": "execute_result"
    }
   ],
   "source": [
    "import os\n",
    "\n",
    "main_path = os.path.abspath(os.path.curdir)\n",
    "print(\"Current working directory is \", main_path)\n",
    "data_path = os.path.join(main_path, 'data')\n",
    "os.listdir(data_path)"
   ]
  },
  {
   "cell_type": "markdown",
   "metadata": {},
   "source": [
    "## Train a model using AutoML"
   ]
  },
  {
   "cell_type": "markdown",
   "metadata": {},
   "source": [
    "This lab builds upon the lessons learned in the previous lab, but is self contained so you work thru this lab without having to run a previous lab."
   ]
  },
  {
   "cell_type": "markdown",
   "metadata": {},
   "source": [
    "In following cell you are loading the data prepared in previous labs and acquiring (or creating) an instance of your Azure Machine Learning Workspace. In this cell, be sure to set the values for `subscription_id`, `resource_group`, `workspace_name` and `workspace_region` as directed by the comments. Execute the cell."
   ]
  },
  {
   "cell_type": "code",
   "execution_count": 2,
   "metadata": {},
   "outputs": [
    {
     "name": "stdout",
     "output_type": "stream",
     "text": [
      "SDK Version: 1.0.6\n",
      "      Age     KM  Affordable\n",
      "0      23  46986           0\n",
      "1      23  72937           0\n",
      "2      24  41711           0\n",
      "3      26  48000           0\n",
      "4      30  38500           0\n",
      "5      32  61000           0\n",
      "6      27  94612           0\n",
      "7      30  75889           0\n",
      "8      27  19700           0\n",
      "9      23  71138           0\n",
      "10     25  31461           0\n",
      "11     22  43610           0\n",
      "12     25  32189           0\n",
      "13     31  23000           0\n",
      "14     32  34131           0\n",
      "15     28  18739           0\n",
      "16     30  34000           0\n",
      "17     24  21716           0\n",
      "18     24  25563           0\n",
      "19     30  64359           0\n",
      "20     30  67660           0\n",
      "21     29  43905           0\n",
      "22     28  56349           0\n",
      "23     28  32220           0\n",
      "24     29  25813           0\n",
      "25     25  28450           0\n",
      "26     27  34545           0\n",
      "27     29  41415           0\n",
      "28     28  44142           0\n",
      "29     30  11090           0\n",
      "...   ...    ...         ...\n",
      "1406   70  44850           1\n",
      "1407   69  44826           1\n",
      "1408   80  44444           1\n",
      "1409   75  43720           1\n",
      "1410   78  43622           1\n",
      "1411   76  43532           1\n",
      "1412   69  42800           1\n",
      "1413   74  42317           1\n",
      "1414   80  42186           1\n",
      "1415   72  42000           1\n",
      "1416   79  40093           1\n",
      "1417   79  39800           1\n",
      "1418   73  39168           1\n",
      "1419   75  38945           1\n",
      "1420   76  36537           1\n",
      "1421   78  36000           1\n",
      "1422   78  36000           1\n",
      "1423   80  35821           1\n",
      "1424   73  34717           1\n",
      "1425   80  34000           1\n",
      "1426   78  30964           1\n",
      "1427   71  29000           1\n",
      "1428   72  26000           1\n",
      "1429   78  24000           1\n",
      "1430   80  23000           1\n",
      "1431   69  20544           1\n",
      "1432   72  19000           1\n",
      "1433   71  17016           1\n",
      "1434   70  16916           1\n",
      "1435   76      1           1\n",
      "\n",
      "[1436 rows x 3 columns]\n",
      "Workspace Provisioning complete.\n"
     ]
    }
   ],
   "source": [
    "# Step 1 - Load training data and prepare Workspace\n",
    "###################################################\n",
    "import os\n",
    "import numpy as np\n",
    "import pandas as pd\n",
    "from sklearn import linear_model \n",
    "from sklearn.externals import joblib\n",
    "from sklearn.preprocessing import StandardScaler\n",
    "from sklearn.metrics import accuracy_score\n",
    "from sklearn.model_selection import train_test_split\n",
    "import azureml\n",
    "from azureml.core import Run\n",
    "from azureml.core import Workspace\n",
    "from azureml.core.run import Run\n",
    "from azureml.core.experiment import Experiment\n",
    "from azureml.train.automl import AutoMLConfig\n",
    "import pickle\n",
    "\n",
    "# Verify AML SDK Installed\n",
    "# view version history at https://pypi.org/project/azureml-sdk/#history \n",
    "print(\"SDK Version:\", azureml.core.VERSION)\n",
    "\n",
    "\n",
    "# Load our training data set\n",
    "pathToCsvFile = os.path.join(data_path, 'UsedCars_Affordability.csv')\n",
    "df_affordability = pd.read_csv(pathToCsvFile, delimiter=',')\n",
    "print(df_affordability)\n",
    "\n",
    "full_X = df_affordability[[\"Age\", \"KM\"]]\n",
    "full_Y = df_affordability[[\"Affordable\"]]\n",
    "\n",
    "# Create a Workspace\n",
    "\n",
    "# Create a new Workspace or retrieve the existing one\n",
    "#Provide the Subscription ID of your existing Azure subscription\n",
    "subscription_id ='757c4165-0823-49f7-9678-5a85fe5e13cc'\n",
    "\n",
    "# Provide values for the Resource Group and Workspace that will be created\n",
    "resource_group = 'MLworkspace2'\n",
    "workspace_name = 'snml2'\n",
    "workspace_region = 'westeurope'  # eastus, westcentralus, southeastasia, australiaeast, westeurope\n",
    "\n",
    "\n",
    "# By using the exist_ok param, if the worskpace already exists we get a reference to the existing workspace instead of an error\n",
    "ws = Workspace.create(\n",
    "    name = workspace_name,\n",
    "    subscription_id = subscription_id,\n",
    "    resource_group = resource_group, \n",
    "    location = workspace_region,\n",
    "    exist_ok = True)\n",
    "\n",
    "print(\"Workspace Provisioning complete.\")\n"
   ]
  },
  {
   "cell_type": "markdown",
   "metadata": {},
   "source": [
    "To train a model using AutoML you need only provide a configuration for AutoML that defines items such as the type of model (classification or regression), the performance metric to optimize, exit criteria in terms of max training time and iterations and desired performance, any algorithms that should not be used, and the path into which to output the results. This configuration is specified using the `AutomMLConfig` class, which is then used to drive the submission of an experiment via `experiment.submit`.  When AutoML finishes the parent run, you can easily get the best performing run and model from the returned run object by using `run.get_output()`. Execute the following cell to define the helper function that wraps the AutoML job submission."
   ]
  },
  {
   "cell_type": "code",
   "execution_count": 11,
   "metadata": {},
   "outputs": [
    {
     "data": {
      "text/html": [
       "<style scoped>\n",
       "  .ansiout {\n",
       "    display: block;\n",
       "    unicode-bidi: embed;\n",
       "    white-space: pre-wrap;\n",
       "    word-wrap: break-word;\n",
       "    word-break: break-all;\n",
       "    font-family: \"Source Code Pro\", \"Menlo\", monospace;;\n",
       "    font-size: 13px;\n",
       "    color: #555;\n",
       "    margin-left: 4px;\n",
       "    line-height: 19px;\n",
       "  }\n",
       "</style>\n",
       "<div class=\"ansiout\"></div>"
      ]
     },
     "metadata": {},
     "output_type": "display_data"
    }
   ],
   "source": [
    "# Step 2 - Define a helper method that will use AutoML to train multiple models and pick the best one\n",
    "##################################################################################################### \n",
    "def auto_train_model(ws, experiment_name, model_name, full_X, full_Y,training_set_percentage, training_target_accuracy):\n",
    "\n",
    "    # start a training run by defining an experiment\n",
    "    experiment = Experiment(ws, experiment_name)\n",
    "    \n",
    "    train_X, test_X, train_Y, test_Y = train_test_split(full_X, full_Y, train_size=training_set_percentage, random_state=42)\n",
    "\n",
    "    train_Y_array = train_Y.values.flatten()\n",
    "\n",
    "    # Configure the automated ML job\n",
    "    # The model training is configured to run on the local machine\n",
    "    # The values for all settings are documented at https://docs.microsoft.com/en-us/azure/machine-learning/service/how-to-configure-auto-train\n",
    "    # Notice we no longer have to scale the input values, as Auto ML will try various data scaling approaches automatically\n",
    "    Automl_config = AutoMLConfig(task = 'classification',\n",
    "                                 primary_metric = 'accuracy',\n",
    "                                 max_time_sec = 12000,\n",
    "                                 iterations = 20,\n",
    "                                 n_cross_validations = 3,\n",
    "                                 exit_score = training_target_accuracy,\n",
    "                                 blacklist_algos = ['kNN','LinearSVM'],\n",
    "                                 X = train_X,\n",
    "                                 y = train_Y_array,\n",
    "                                 path='.\\\\outputs')\n",
    "\n",
    "    # Execute the job\n",
    "    run = experiment.submit(Automl_config, show_output=True)\n",
    "\n",
    "    # Get the run with the highest accuracy value.\n",
    "    best_run, best_model = run.get_output()\n",
    "\n",
    "    return (best_model, run, best_run)"
   ]
  },
  {
   "cell_type": "markdown",
   "metadata": {},
   "source": [
    "In the following cell, you invoke the AutoML job to begin the training. Execute the following cell."
   ]
  },
  {
   "cell_type": "code",
   "execution_count": 13,
   "metadata": {},
   "outputs": [
    {
     "data": {
      "text/html": [
       "<style scoped>\n",
       "  .ansiout {\n",
       "    display: block;\n",
       "    unicode-bidi: embed;\n",
       "    white-space: pre-wrap;\n",
       "    word-wrap: break-word;\n",
       "    word-break: break-all;\n",
       "    font-family: \"Source Code Pro\", \"Menlo\", monospace;;\n",
       "    font-size: 13px;\n",
       "    color: #555;\n",
       "    margin-left: 4px;\n",
       "    line-height: 19px;\n",
       "  }\n",
       "</style>\n",
       "<div class=\"ansiout\">/databricks/python/lib/python3.5/site-packages/sklearn/model_selection/_split.py:2026: FutureWarning: From version 0.21, test_size will always complement train_size unless both are specified.\n",
       "  FutureWarning)\n",
       "WARNING:root:Parameter &apos;max_time_sec&apos; will be deprecated. Use &apos;iteration_timeout_minutes&apos;\n",
       "WARNING:root:Parameter &apos;exit_score&apos; will be deprecated. Use &apos;experiment_exit_score&apos;\n",
       "WARNING:root:Parameter &apos;blacklist_algos&apos; will be deprecated. Use &apos;blacklist_models&apos;\n",
       "WARNING:root:Parameter &apos;max_time_sec&apos; will be deprecated. Use &apos;iteration_timeout_minutes&apos;\n",
       "WARNING:root:Parameter &apos;exit_score&apos; will be deprecated. Use &apos;experiment_exit_score&apos;\n",
       "WARNING:root:Parameter &apos;blacklist_algos&apos; will be deprecated. Use &apos;blacklist_models&apos;\n",
       "Parent Run ID: AutoML_448f6dc8-19ad-49af-9d0f-c368f9f9f906\n",
       "*******************************************************************************************\n",
       "ITERATION: The iteration being evaluated.\n",
       "PIPELINE: A summary description of the pipeline being evaluated.\n",
       "DURATION: Time taken for the current iteration.\n",
       "METRIC: The result of computing score on the fitted pipeline.\n",
       "BEST: The best observed score thus far.\n",
       "*******************************************************************************************\n",
       "\n",
       " ITERATION   PIPELINE                                       DURATION      METRIC      BEST\n",
       "         0   StandardScalerWrapper KNN                      0:00:06       0.9387    0.9387\n",
       "Stopping criteria reached at iteration 1. Ending experiment.WARNING:root:Parameter &apos;blacklist_algos&apos; will be deprecated. Use &apos;blacklist_models&apos;\n",
       "{&apos;AUC_macro&apos;: 0.9684345902786315,\n",
       " &apos;AUC_micro&apos;: 0.9684345902786315,\n",
       " &apos;AUC_weighted&apos;: 0.9684345902786315,\n",
       " &apos;accuracy&apos;: 0.9387494188749419,\n",
       " &apos;accuracy_max&apos;: 0.9387494188749419,\n",
       " &apos;average_precision_score_macro&apos;: 0.9868041720856932,\n",
       " &apos;average_precision_score_micro&apos;: 0.9868041720856932,\n",
       " &apos;average_precision_score_weighted&apos;: 0.9868041720856932,\n",
       " &apos;balanced_accuracy&apos;: 0.8869954835400741,\n",
       " &apos;f1_score_macro&apos;: 0.9024329049250029,\n",
       " &apos;f1_score_micro&apos;: 0.9387494188749419,\n",
       " &apos;f1_score_weighted&apos;: 0.9373955488052862,\n",
       " &apos;log_loss&apos;: 0.3149414073434263,\n",
       " &apos;norm_macro_recall&apos;: 0.7739909670801484,\n",
       " &apos;precision_score_macro&apos;: 0.9209147723141714,\n",
       " &apos;precision_score_micro&apos;: 0.9387494188749419,\n",
       " &apos;precision_score_weighted&apos;: 0.9376006139940539,\n",
       " &apos;recall_score_macro&apos;: 0.8869954835400741,\n",
       " &apos;recall_score_micro&apos;: 0.9387494188749419,\n",
       " &apos;recall_score_weighted&apos;: 0.9387494188749419,\n",
       " &apos;weighted_accuracy&apos;: 0.9635993950946903}\n",
       "</div>"
      ]
     },
     "metadata": {},
     "output_type": "display_data"
    }
   ],
   "source": [
    "# Step 3 - Execute the AutoML driven training\n",
    "#############################################\n",
    "experiment_name = \"Experiment-AutoML-04\"\n",
    "model_name = \"usedcarsmodel\"\n",
    "training_set_percentage = 0.50\n",
    "training_target_accuracy = 0.93\n",
    "best_model, run, best_run = auto_train_model(ws, experiment_name, model_name, full_X, full_Y, training_set_percentage, training_target_accuracy)\n",
    "\n",
    "# Examine some of the metrics for the best performing run\n",
    "import pprint\n",
    "pprint.pprint({k: v for k, v in best_run.get_metrics().items() if isinstance(v, float)})"
   ]
  },
  {
   "cell_type": "markdown",
   "metadata": {},
   "source": [
    "Try out the best model by executing the following cell."
   ]
  },
  {
   "cell_type": "code",
   "execution_count": 15,
   "metadata": {},
   "outputs": [
    {
     "data": {
      "text/html": [
       "<style scoped>\n",
       "  .ansiout {\n",
       "    display: block;\n",
       "    unicode-bidi: embed;\n",
       "    white-space: pre-wrap;\n",
       "    word-wrap: break-word;\n",
       "    word-break: break-all;\n",
       "    font-family: \"Source Code Pro\", \"Menlo\", monospace;;\n",
       "    font-size: 13px;\n",
       "    color: #555;\n",
       "    margin-left: 4px;\n",
       "    line-height: 19px;\n",
       "  }\n",
       "</style>\n",
       "<div class=\"ansiout\">[1]\n",
       "</div>"
      ]
     },
     "metadata": {},
     "output_type": "display_data"
    }
   ],
   "source": [
    "# Step 4 - Try the best model\n",
    "#############################\n",
    "age = 60\n",
    "km = 40000\n",
    "print(best_model.predict( [[age,km]] ))"
   ]
  },
  {
   "cell_type": "markdown",
   "metadata": {},
   "source": [
    "## Register an AutoML created model"
   ]
  },
  {
   "cell_type": "markdown",
   "metadata": {},
   "source": [
    "You can register models created by AutoML with Azure Machine Learning just as you would any other model. Execute the following cell to register this model."
   ]
  },
  {
   "cell_type": "code",
   "execution_count": 18,
   "metadata": {},
   "outputs": [
    {
     "data": {
      "text/html": [
       "<style scoped>\n",
       "  .ansiout {\n",
       "    display: block;\n",
       "    unicode-bidi: embed;\n",
       "    white-space: pre-wrap;\n",
       "    word-wrap: break-word;\n",
       "    word-break: break-all;\n",
       "    font-family: \"Source Code Pro\", \"Menlo\", monospace;;\n",
       "    font-size: 13px;\n",
       "    color: #555;\n",
       "    margin-left: 4px;\n",
       "    line-height: 19px;\n",
       "  }\n",
       "</style>\n",
       "<div class=\"ansiout\">WARNING:root:Parameter &apos;blacklist_algos&apos; will be deprecated. Use &apos;blacklist_models&apos;\n",
       "Registering model AutoML448f6dc81best\n",
       "<span class=\"ansired\">Out[</span><span class=\"ansired\">6</span><span class=\"ansired\">]: </span>&lt;azureml.core.model.Model at 0x7f6c3c43a240&gt;\n",
       "</div>"
      ]
     },
     "metadata": {},
     "output_type": "display_data"
    }
   ],
   "source": [
    "# Step 5 - Register the best performing model for later use and deployment\n",
    "#################################################################\n",
    "# notice the use of the root run (not best_run) to register the best model\n",
    "run.register_model(description='AutoML trained used cars classifier')"
   ]
  }
 ],
 "metadata": {
  "kernelspec": {
   "display_name": "Python 3",
   "language": "python",
   "name": "python3"
  },
  "language_info": {
   "codemirror_mode": {
    "name": "ipython",
    "version": 3
   },
   "file_extension": ".py",
   "mimetype": "text/x-python",
   "name": "python",
   "nbconvert_exporter": "python",
   "pygments_lexer": "ipython3",
   "version": "3.6.8"
  },
  "name": "04 automl",
  "notebookId": 3429556884310678
 },
 "nbformat": 4,
 "nbformat_minor": 1
}
