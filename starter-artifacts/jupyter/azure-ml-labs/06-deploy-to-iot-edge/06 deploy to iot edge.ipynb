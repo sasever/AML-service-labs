{
 "cells": [
  {
   "cell_type": "markdown",
   "metadata": {},
   "source": [
    "# Lab 6 - Model Deployment to IoT Edge"
   ]
  },
  {
   "cell_type": "markdown",
   "metadata": {},
   "source": [
    "In this lab you deploy a trained model container to an IoT Edge device."
   ]
  },
  {
   "cell_type": "markdown",
   "metadata": {},
   "source": [
    "## Download the supporting files"
   ]
  },
  {
   "cell_type": "markdown",
   "metadata": {},
   "source": [
    "The following cell will check the files used by this lab. Click into the following cell and use `Shift + Enter` to execute it"
   ]
  },
  {
   "cell_type": "code",
   "execution_count": 1,
   "metadata": {},
   "outputs": [
    {
     "name": "stdout",
     "output_type": "stream",
     "text": [
      "Current working directory is  C:\\Users\\sasever\\Desktop\\SelfLearning\\AzureML\\AML-service-labs-master\\starter-artifacts\\jupyter\\azure-ml-labs\\06-deploy-to-iot-edge\n"
     ]
    },
    {
     "data": {
      "text/plain": [
       "['iot_score.py', 'model.pkl', 'myenv.yml']"
      ]
     },
     "execution_count": 1,
     "metadata": {},
     "output_type": "execute_result"
    }
   ],
   "source": [
    "import os\n",
    "\n",
    "main_path = os.path.abspath(os.path.curdir)\n",
    "print(\"Current working directory is \", main_path)\n",
    "os.listdir(main_path)"
   ]
  },
  {
   "cell_type": "markdown",
   "metadata": {},
   "source": [
    "In the following cell, we retrieve or create the AML Workspace. In this step, be sure to set the values for `subscription_id`, `resource_group`, `workspace_name` and `workspace_region` as directed by the comments. Execute the following cell. Note that may be prompted to login via the output of this cell."
   ]
  },
  {
   "cell_type": "code",
   "execution_count": 2,
   "metadata": {},
   "outputs": [
    {
     "name": "stdout",
     "output_type": "stream",
     "text": [
      "Workspace Provisioning complete.\n"
     ]
    }
   ],
   "source": [
    "# Step 1 - Create or retrieve your Azure ML Workspace\n",
    "#####################################################\n",
    "from azureml.core import Workspace\n",
    "from azureml.core.model import Model \n",
    "#Provide the Subscription ID of your existing Azure subscription\n",
    "subscription_id ='757c4165-0823-49f7-9678-5a85fe5e13cc'\n",
    "\n",
    "# Provide values for the Resource Group and Workspace that will be created\n",
    "resource_group = 'MLworkspace2'\n",
    "workspace_name = 'snml2'\n",
    "workspace_region = 'westeurope'  # eastus, westcentralus, southeastasia, australiaeast, westeurope\n",
    "\n",
    "# By using the exist_ok param, if the worskpace already exists we get a reference to the existing workspace instead of an error\n",
    "ws = Workspace.create(\n",
    "    name = workspace_name,\n",
    "    subscription_id = subscription_id,\n",
    "    resource_group = resource_group, \n",
    "    location = workspace_region,\n",
    "    exist_ok = True)\n",
    "\n",
    "print(\"Workspace Provisioning complete.\")"
   ]
  },
  {
   "cell_type": "markdown",
   "metadata": {},
   "source": [
    "Observe the files downloaded includes the files needed to create a container image for scoring:  `iot_score.py` (the scoring script), `myenv.yml` (the conda dependencies to be installed in the container), and `model.pkl` (a previously trained anomaly detection model)."
   ]
  },
  {
   "cell_type": "markdown",
   "metadata": {},
   "source": [
    "## Build the ContainerImage for the IoT Edge Module"
   ]
  },
  {
   "cell_type": "markdown",
   "metadata": {},
   "source": [
    "With a Workspace in hand you are ready to build a container that wraps your model. This consists of three steps- creating a ContainerImage, registering the Model and creating an Image. Execute the following cell and wait for it to complete. When it is finished you will have a Docker container image that you will be able to deploy to your IoT Edge device."
   ]
  },
  {
   "cell_type": "code",
   "execution_count": 6,
   "metadata": {},
   "outputs": [
    {
     "name": "stdout",
     "output_type": "stream",
     "text": [
      "Registering model iot_model.pkl\n",
      "Creating image\n",
      "Running...............................................\n",
      "SucceededImage creation operation finished for image iotimage:1, operation \"Succeeded\"\n"
     ]
    }
   ],
   "source": [
    "# Step 2 - Build the ContainerImage for the IoT Edge Module\n",
    "###########################################################\n",
    "from azureml.core.image import ContainerImage, Image\n",
    "\n",
    "runtime = \"python\" \n",
    "driver_file = \"iot_score.py\"\n",
    "conda_file = \"myenv.yml\"\n",
    "model_path = \"model.pkl\"\n",
    "\n",
    "image_config = ContainerImage.image_configuration(execution_script = driver_file,\n",
    "                                                  runtime = runtime,\n",
    "                                                  conda_file = conda_file)\n",
    "\n",
    "model = Model.register(model_path = model_path,\n",
    "                       model_name = \"iot_model.pkl\",\n",
    "                       workspace = ws)\n",
    "\n",
    "image = Image.create(name = \"iotimage\",\n",
    "                     # this is the model object \n",
    "                     models = [model],\n",
    "                     image_config = image_config, \n",
    "                     workspace = ws)\n",
    "image.wait_for_creation(show_output = True)\n"
   ]
  },
  {
   "cell_type": "markdown",
   "metadata": {},
   "source": [
    "## Launch the Azure CLI\n",
    "The following steps can be perfomed in any command line environment that has the Azure CLI installed. In this case, we will use the Azure Cloud Shell. \n",
    "\n",
    "To use the Azure Cloud Shell, follow these steps and the continue with the sections that follow once you have an Azure Cloud Shell ready."
   ]
  },
  {
   "cell_type": "markdown",
   "metadata": {},
   "source": [
    "1. Log in to the Azure portal.\n",
    "\n",
    "2. From the top-right corner, click the Cloud Shell icon.\n",
    "![Launch Cloud Shell](https://databricksdemostore.blob.core.windows.net/images/amllabs/lab06/launch-azure-cloud-shell.png)\n",
    "\n",
    "3. Make sure you select **Bash** for the Cloud Shell environment. You can select from the drop-down option, as shown in the following screenshot.\n",
    "![Select Bash](https://databricksdemostore.blob.core.windows.net/images/amllabs/lab06/select-bash-for-shell.png)"
   ]
  },
  {
   "cell_type": "markdown",
   "metadata": {},
   "source": [
    "## Provision an IoT Edge Device and IoT Hub\n",
    "In this exercise, you will provision an Ubuntu Linux Virtual Machine that will act as your IoT Edge device. You will perform the following steps using the Azure CLI accessed using the Azure Cloud Shell. \n",
    "1. Open the Azure Cloud Shell as described previously. \n",
    "2. Confirm the selected subscription used by the Azure CLI is the desired one by running:\n",
    "```\n",
    "az account show\n",
    "```\n",
    "3. If the subscription is not set correctly, change it by updating the following with your `Subscription Name` or `Subscription ID` and running it.\n",
    "```\n",
    "az account set --subscription \"Demo Creation\"\n",
    "```\n",
    "4. You will need to use the Azure IoT extension to the Azure CLI. Run the following command to install it.\n",
    "```\n",
    "az extension add --name azure-cli-iot-ext\n",
    "```\n",
    "5. Next, create a Resource Group that will contain the IoT Edge related resources.  \n",
    "```\n",
    "az group create --name IoTEdgeResources --location westus2\n",
    "```\n",
    "6. Run the following command to create an Azure Virtual Machine that will act as your IoT Edge device. From the command output take note of the value `publicIpAddress`. You will need this IP address later to use SSH to connect to the VM.\n",
    "```\n",
    "az vm create --resource-group IoTEdgeResources --name EdgeVM --image Canonical:UbuntuServer:16.04-LTS:latest --admin-username azureuser --generate-ssh-keys --size Standard_DS1_v2\n",
    "```\n",
    "7. Your IoT edge device will be managed thru an IoT Hub. This IoT Hub will also be the target to where your IoT Edge device will send its telemetry. Run the following to create an IoT Hub in the Resource Group you created previously. Be sure to repalce the `{hub_name}` attribute with a unique value, and if necessary change the SKU from `F1` free tier to `S1` if you already have a free-tier instance deployed in your subscription.\n",
    "```\n",
    "az iot hub create --resource-group IoTEdgeResources --name {hub_name} --sku F1\n",
    "```\n",
    "8. Next you will create a digital identity for your IoT Edge device. Run the following command to create this identity in your IoT Hub.\n",
    "```\n",
    "az iot hub device-identity create --hub-name {hub_name} --device-id myEdgeDevice --edge-enabled\n",
    "```\n",
    "9. Your IoT Edge device will need to be configured with a connection string that uniquely identifies it to IoT Hub. Run the following command to retrieve this connection string and copy it down for use later.\n",
    "```\n",
    "az iot hub device-identity show-connection-string --device-id myEdgeDevice --hub-name {hub_name}\n",
    "```"
   ]
  },
  {
   "cell_type": "markdown",
   "metadata": {},
   "source": [
    "## Configure your IoT Edge device VM\n",
    "The IoT Edge runtime is needed by any IoT Edge devices. In this exercise you will install and configure the various components of the runtime.\n",
    "1. Connect to your VM via SSH, using the `publicIpAddress` you acquired previously.\n",
    "```\n",
    "ssh azureuser@{publicIpAddress}\n",
    "```\n",
    "2. Create the software repository cofniguration needed for acquiring the IoT Edge runtime and register the public key needed to access the repository.\n",
    "```\n",
    "curl https://packages.microsoft.com/config/ubuntu/16.04/prod.list > ./microsoft-prod.list\n",
    "sudo cp ./microsoft-prod.list /etc/apt/sources.list.d/\n",
    "curl https://packages.microsoft.com/keys/microsoft.asc | gpg --dearmor > microsoft.gpg\n",
    "sudo cp ./microsoft.gpg /etc/apt/trusted.gpg.d/\n",
    "```\n",
    "3. Install the container runtime by executing the following:\n",
    "```\n",
    "sudo apt-get update\n",
    "sudo apt-get install moby-engine\n",
    "sudo apt-get install moby-cli\n",
    "```\n",
    "4. Install the IoT Edge security daemon by running the following.\n",
    "```\n",
    "sudo apt-get update\n",
    "sudo apt-get install iotedge\n",
    "```\n",
    "5. Get the IP address of the docker0 interface by running `ifconfig`. The output should be similar to the following. You want the value that follows inet addr (which is 172.17.0.1 in the below example). \n",
    "```\n",
    "....\n",
    "docker0   Link encap:Ethernet  HWaddr 02:42:30:d8:7f:e9\n",
    "          inet addr:172.17.0.1  Bcast:172.17.255.255  Mask:255.255.0.0\n",
    "....\n",
    "```\n",
    "6. Open the config.yaml file which contains the IoT Edge configuration in the nano editor. \n",
    "```\n",
    "sudo nano /etc/iotedge/config.yaml\n",
    "```\n",
    "7. Locate the line of code that looks like the following:\n",
    "```\n",
    "provisioning:\n",
    "  source: \"manual\"\n",
    "  device_connection_string: \"<ADD DEVICE CONNECTION STRING HERE>\"\n",
    "```\n",
    "8. In the value for `device_connection_string` paste the connection string you acquired from your IoT Hub for your Edge device. \n",
    "9. While in preview, Azure Machine Learning does not support the process identification security feature enabled by default with IoT Edge and you need to perform the following two steps to disable it.\n",
    "10. Update the connect section of the configuration with your docker IP address. For example:\n",
    "```\n",
    "connect:\n",
    "  management_uri: \"http://172.17.0.1:15580\"\n",
    "  workload_uri: \"http://172.17.0.1:15581\"\n",
    "```\n",
    "11. Enter the same docker IP addresses in the listen section of the configuration. For example:\n",
    "```\n",
    "listen:\n",
    "  management_uri: \"http://172.17.0.1:15580\"\n",
    "  workload_uri: \"http://172.17.0.1:15581\"\n",
    "```\n",
    "12. Then save and close the file by pressing `CTRL + X`, `Y`, `ENTER`.\n",
    "13. Apply the changes by restarting the IoT Edge security daemon.\n",
    "```\n",
    "sudo systemctl restart iotedge\n",
    "```\n",
    "14. Verify the status of your IoT Edge service by running (for the Active attribute, the value should read `Active: active(running)`):\n",
    "```\n",
    "sudo systemctl status iotedge\n",
    "```\n",
    "15. You can view the list of initial modules (containers) that are runnning on your device by executing:\n",
    "```\n",
    "sudo iotedge list\n",
    "```\n",
    "16. Your device is now configured and ready to receive cloud-deployed modules."
   ]
  },
  {
   "cell_type": "markdown",
   "metadata": {},
   "source": [
    "## Deploy the modules\n",
    "In this exercise you will deploy two modules to your IoT Edge device. One is a telemetry generator that will produce simulated temperature readings and the other will be an Azure Machine Learning module that will perform anomaly detection. \n",
    "1. Navigate to the Azure Portal in your browser and locate your IoT Hub.\n",
    "2. Select **IoT Edge** under Automatic Device Management and select your IoT Edge device.\n",
    "![IoT Edge devices](https://databricksdemostore.blob.core.windows.net/images/amllabs/lab06/01.png)\n",
    "3. Select **Set modules**. A three-step wizard opens in the portal, which guides you through adding modules, specifying routes, and reviewing the deployment. \n",
    "![Set Modules](https://databricksdemostore.blob.core.windows.net/images/amllabs/lab06/02.png)\n",
    "4. In the Add Modules step of the wizard, find the Deployment Modules section. Click Add then select IoT Edge Module.\n",
    "![Add modules](https://databricksdemostore.blob.core.windows.net/images/amllabs/lab06/03.png)\n",
    "5. In the Name field, enter `tempSensor`.\n",
    "6. In the Image URI field, enter `mcr.microsoft.com/azureiotedge-simulated-temperature-sensor:1.0`. This image is available from  Microsoft supplied container registry.\n",
    "7. Leave the other settings unchanged, and select Save.\n",
    "![IoT Edge Custom Modules](https://databricksdemostore.blob.core.windows.net/images/amllabs/lab06/04.png)\n",
    "8. Next you will add the machine learning module that you created.\n",
    "9. Under Deployment Modules, select Add.\n",
    "10. This time select Azure Machine Learning Module.\n",
    "11. In the Deployment Name field, enter `machinelearningmodule`.\n",
    "12. In the Subscription, select the Azure Subscription that contains your Azure Machine Learning Workspace.\n",
    "13. From the Workspace dropdown, select your Azure Machine Learning Workspace.\n",
    "14. From the Image dropdown, select the machine learning image you recently deployed.\n",
    "![Machine Learning module](https://databricksdemostore.blob.core.windows.net/images/amllabs/lab06/05.png)\n",
    "15. Select Next.\n",
    "16. Back in the Set Modules step, select **Next**.\n",
    "17. In the Specify Routes step, copy the JSON below into the text box. The first route transports messages from the temperature sensor to the machine learning module via the \"amlInput\" endpoint, which is the endpoint that all Azure Machine Learning modules use. The second route transports messages from the machine learning module to IoT Hub. In this route, `amlOutput` is the endpoint that all Azure Machine Learning modules use to output data, and `$upstream` denotes IoT Hub.\n",
    "```\n",
    "{\n",
    "    \"routes\": {\n",
    "        \"sensorToMachineLearning\":\"FROM /messages/modules/tempSensor/outputs/temperatureOutput INTO BrokeredEndpoint(\\\"/modules/machinelearningmodule/inputs/amlInput\\\")\",\n",
    "        \"machineLearningToIoTHub\": \"FROM /messages/modules/machinelearningmodule/outputs/amlOutput INTO $upstream\"\n",
    "    }\n",
    "}\n",
    "```\n",
    "10. Select Next.\n",
    "11. In the Review Deployment step of the wizard, select **Submit**.\n",
    "12. Return to the device details page and select **Refresh**. In addition to the edgeAgent module that was created when you first started the service, you should see another runtime module called edgeHub and the tempSensor and machinelearningmodule listed. It may take about 5-10 minutes for the two new modules to appear and start running. Once you see a Runtime Status of Running for all modules you can proceed."
   ]
  },
  {
   "cell_type": "markdown",
   "metadata": {},
   "source": [
    "## Examine the scored messages\n",
    "You can view messages being generated by each IoT Edge module, and you can view messages that are delivered to your IoT hub.\n",
    "\n",
    "1. Return to your SSH session connected to your IoT Edge VM. \n",
    "2. View the list of modules on your device be running the following.\n",
    "```\n",
    "sudo iotedge list\n",
    "```\n",
    "3. View the simulated telemetry messages being sent by the `tempSensor` module by running the following command.\n",
    "```\n",
    "iotedge logs tempSensor -f\n",
    "```\n",
    "4. View the anomaly detection scored messages being sent by the `machinelearningmodule` by running the following command.\n",
    "```\n",
    "iotedge logs machinelearningmodule -f\n",
    "```"
   ]
  }
 ],
 "metadata": {
  "kernelspec": {
   "display_name": "Python 3",
   "language": "python",
   "name": "python3"
  },
  "language_info": {
   "codemirror_mode": {
    "name": "ipython",
    "version": 3
   },
   "file_extension": ".py",
   "mimetype": "text/x-python",
   "name": "python",
   "nbconvert_exporter": "python",
   "pygments_lexer": "ipython3",
   "version": "3.6.8"
  },
  "name": "01 deploy to iot edge",
  "notebookId": 3429556884310698
 },
 "nbformat": 4,
 "nbformat_minor": 1
}
