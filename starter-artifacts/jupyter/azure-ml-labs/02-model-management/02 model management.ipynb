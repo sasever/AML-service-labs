{
 "cells": [
  {
   "cell_type": "markdown",
   "metadata": {},
   "source": [
    "# Lab 2 - Using Azure Machine Learning service Model Versioning and Run History"
   ]
  },
  {
   "cell_type": "markdown",
   "metadata": {},
   "source": [
    "In this lab you will use the capabilities of the Azure Machine Learning service to collect model performance metrics and to capture model version, as well as query the experimentation run history to retrieve captured metrics."
   ]
  },
  {
   "cell_type": "markdown",
   "metadata": {},
   "source": [
    "## Download the datasets"
   ]
  },
  {
   "cell_type": "markdown",
   "metadata": {},
   "source": [
    "The following cell will download the dataset used by this lab. Click into the following cell and use `Shift + Enter` to execute it"
   ]
  },
  {
   "cell_type": "code",
   "execution_count": 1,
   "metadata": {},
   "outputs": [
    {
     "name": "stdout",
     "output_type": "stream",
     "text": [
      "Current working directory is  C:\\Users\\sasever\\Desktop\\SelfLearning\\AzureML\\AML-service-labs-master\\starter-artifacts\\jupyter\\azure-ml-labs\\02-model-management\n"
     ]
    },
    {
     "data": {
      "text/plain": [
       "['UsedCars_Affordability.csv']"
      ]
     },
     "execution_count": 1,
     "metadata": {},
     "output_type": "execute_result"
    }
   ],
   "source": [
    "import os\n",
    "\n",
    "main_path = os.path.abspath(os.path.curdir)\n",
    "print(\"Current working directory is \", main_path)\n",
    "data_path = os.path.join(main_path, 'data')\n",
    "os.listdir(data_path)"
   ]
  },
  {
   "cell_type": "markdown",
   "metadata": {},
   "source": [
    "## Exercise 2 - Train a simple model"
   ]
  },
  {
   "cell_type": "markdown",
   "metadata": {},
   "source": [
    "This lab builds upon the lessons learned in the previous lab, but is self contained so you work thru this lab without having to run a previous lab. As such Steps 1, 2 and 3 in the lab are not explored in detail as their goal is to setup a few experiment runs, which was covered in detail in Lab 1."
   ]
  },
  {
   "cell_type": "markdown",
   "metadata": {},
   "source": [
    "Read thru the following cell. Use `Shift + Enter` to execute cell. Take a moment to look at the data loaded into the Pandas Dataframe - it contains data about used cars such as the price (in dollars), age (in years), KM (kilometers driven) and other attributes like weather it is automatic transimission, the number of doors, and the weight."
   ]
  },
  {
   "cell_type": "code",
   "execution_count": 3,
   "metadata": {},
   "outputs": [
    {
     "name": "stdout",
     "output_type": "stream",
     "text": [
      "      Age     KM  Affordable\n",
      "0      23  46986           0\n",
      "1      23  72937           0\n",
      "2      24  41711           0\n",
      "3      26  48000           0\n",
      "4      30  38500           0\n",
      "5      32  61000           0\n",
      "6      27  94612           0\n",
      "7      30  75889           0\n",
      "8      27  19700           0\n",
      "9      23  71138           0\n",
      "10     25  31461           0\n",
      "11     22  43610           0\n",
      "12     25  32189           0\n",
      "13     31  23000           0\n",
      "14     32  34131           0\n",
      "15     28  18739           0\n",
      "16     30  34000           0\n",
      "17     24  21716           0\n",
      "18     24  25563           0\n",
      "19     30  64359           0\n",
      "20     30  67660           0\n",
      "21     29  43905           0\n",
      "22     28  56349           0\n",
      "23     28  32220           0\n",
      "24     29  25813           0\n",
      "25     25  28450           0\n",
      "26     27  34545           0\n",
      "27     29  41415           0\n",
      "28     28  44142           0\n",
      "29     30  11090           0\n",
      "...   ...    ...         ...\n",
      "1406   70  44850           1\n",
      "1407   69  44826           1\n",
      "1408   80  44444           1\n",
      "1409   75  43720           1\n",
      "1410   78  43622           1\n",
      "1411   76  43532           1\n",
      "1412   69  42800           1\n",
      "1413   74  42317           1\n",
      "1414   80  42186           1\n",
      "1415   72  42000           1\n",
      "1416   79  40093           1\n",
      "1417   79  39800           1\n",
      "1418   73  39168           1\n",
      "1419   75  38945           1\n",
      "1420   76  36537           1\n",
      "1421   78  36000           1\n",
      "1422   78  36000           1\n",
      "1423   80  35821           1\n",
      "1424   73  34717           1\n",
      "1425   80  34000           1\n",
      "1426   78  30964           1\n",
      "1427   71  29000           1\n",
      "1428   72  26000           1\n",
      "1429   78  24000           1\n",
      "1430   80  23000           1\n",
      "1431   69  20544           1\n",
      "1432   72  19000           1\n",
      "1433   71  17016           1\n",
      "1434   70  16916           1\n",
      "1435   76      1           1\n",
      "\n",
      "[1436 rows x 3 columns]\n"
     ]
    }
   ],
   "source": [
    "# Step 1 - load the training data locally\n",
    "#########################################\n",
    "import os\n",
    "import numpy as np\n",
    "import pandas as pd\n",
    "from sklearn import linear_model \n",
    "from sklearn.externals import joblib\n",
    "from sklearn.preprocessing import StandardScaler\n",
    "from sklearn.metrics import accuracy_score\n",
    "from sklearn.model_selection import train_test_split\n",
    "import azureml\n",
    "from azureml.core import Run\n",
    "from azureml.core import Workspace\n",
    "from azureml.core.run import Run\n",
    "from azureml.core.experiment import Experiment\n",
    "import pickle\n",
    "\n",
    "pathToCsvFile = os.path.join(data_path, 'UsedCars_Affordability.csv')\n",
    "df_affordability = pd.read_csv(pathToCsvFile, delimiter=',')\n",
    "print(df_affordability)\n",
    "\n",
    "full_X = df_affordability[[\"Age\", \"KM\"]]\n",
    "full_Y = df_affordability[[\"Affordable\"]]"
   ]
  },
  {
   "cell_type": "markdown",
   "metadata": {},
   "source": [
    "In the following cell, we will define a helper method that trains, evaluates and then registers the trained model with Azure Machine Learning. Execute the following cell."
   ]
  },
  {
   "cell_type": "code",
   "execution_count": 4,
   "metadata": {},
   "outputs": [],
   "source": [
    "# Step 2 - Define a helper method for training, evaluating and registering a model\n",
    "################################################################################### \n",
    "def train_eval_register_model(experiment_name, full_X, full_Y,training_set_percentage):\n",
    "\n",
    "    # start a training run by defining an experiment\n",
    "    myexperiment = Experiment(ws, experiment_name)\n",
    "    run = myexperiment.start_logging()\n",
    "\n",
    "\n",
    "    train_X, test_X, train_Y, test_Y = train_test_split(full_X, full_Y, train_size=training_set_percentage, random_state=42)\n",
    "\n",
    "    scaler = StandardScaler()\n",
    "    X_scaled = scaler.fit_transform(train_X)\n",
    "    clf = linear_model.LogisticRegression(C=1)\n",
    "    clf.fit(X_scaled, train_Y)\n",
    "\n",
    "    scaled_inputs = scaler.transform(test_X)\n",
    "    predictions = clf.predict(scaled_inputs)\n",
    "    score = accuracy_score(test_Y, predictions)\n",
    "\n",
    "    print(\"With %0.2f percent of data, model accuracy reached %0.4f.\" % (training_set_percentage, score))\n",
    "\n",
    "    # Log the training metrics to Azure Machine Learning service run history\n",
    "    run.log(\"Training_Set_Percentage\", training_set_percentage)\n",
    "    run.log(\"Accuracy\", score)\n",
    "    run.complete()\n",
    "\n",
    "    output_model_path = 'outputs/' + experiment_name + '.pkl'\n",
    "    pickle.dump(clf,open(output_model_path,'wb'))\n",
    "\n",
    "    # Register and upload this version of the model with Azure Machine Learning service\n",
    "    registered_model = run.register_model(model_name='usedcarsmodel', model_path=output_model_path)\n",
    "\n",
    "    print(registered_model.name, registered_model.id, registered_model.version, sep = '\\t')\n",
    "\n",
    "    return (clf, score)"
   ]
  },
  {
   "cell_type": "markdown",
   "metadata": {},
   "source": [
    "In the next cell, we retrieve an existing Azure Machine Learning Workspace (or create a new one if desired). In this cell, be sure to set the values for `subscription_id`, `resource_group`, `workspace_name` and `workspace_region` as directed by the comments. With the Workspace retrieved, we will train 3 different models using different subsets of the training data. Execute the cell."
   ]
  },
  {
   "cell_type": "code",
   "execution_count": 6,
   "metadata": {},
   "outputs": [
    {
     "name": "stdout",
     "output_type": "stream",
     "text": [
      "SDK Version: 1.0.6\n",
      "Workspace Provisioning complete.\n"
     ]
    },
    {
     "name": "stderr",
     "output_type": "stream",
     "text": [
      "C:\\Users\\sasever\\AppData\\Local\\Continuum\\anaconda3\\envs\\amlpy36\\lib\\site-packages\\sklearn\\model_selection\\_split.py:2026: FutureWarning: From version 0.21, test_size will always complement train_size unless both are specified.\n",
      "  FutureWarning)\n",
      "C:\\Users\\sasever\\AppData\\Local\\Continuum\\anaconda3\\envs\\amlpy36\\lib\\site-packages\\sklearn\\utils\\validation.py:578: DataConversionWarning: A column-vector y was passed when a 1d array was expected. Please change the shape of y to (n_samples, ), for example using ravel().\n",
      "  y = column_or_1d(y, warn=True)\n"
     ]
    },
    {
     "name": "stdout",
     "output_type": "stream",
     "text": [
      "With 0.25 percent of data, model accuracy reached 0.9192.\n",
      "usedcarsmodel\tusedcarsmodel:1\t1\n",
      "With 0.50 percent of data, model accuracy reached 0.9109.\n",
      "usedcarsmodel\tusedcarsmodel:2\t2\n",
      "With 0.75 percent of data, model accuracy reached 0.9081.\n",
      "usedcarsmodel\tusedcarsmodel:3\t3\n"
     ]
    }
   ],
   "source": [
    "# Step 3 - Run a few experiments in your Azure ML Workspace\n",
    "###########################################################\n",
    "# Verify AML SDK Installed\n",
    "print(\"SDK Version:\", azureml.core.VERSION)\n",
    "\n",
    "\n",
    "# Create a new Workspace or retrieve the existing one\n",
    "#Provide the Subscription ID of your existing Azure subscription\n",
    "subscription_id ='757c4165-0823-49f7-9678-5a85fe5e13cc'\n",
    "\n",
    "# Provide values for the Resource Group and Workspace that will be created\n",
    "resource_group = 'MLworkspace2'\n",
    "workspace_name = 'snml2'\n",
    "workspace_region = 'westeurope'  # eastus, westcentralus, southeastasia, australiaeast, westeurope\n",
    "\n",
    "# By using the exist_ok param, if the worskpace already exists we get a reference to the existing workspace instead of an error\n",
    "ws = Workspace.create(\n",
    "    name = workspace_name,\n",
    "    subscription_id = subscription_id,\n",
    "    resource_group = resource_group, \n",
    "    location = workspace_region,\n",
    "    exist_ok = True)\n",
    "\n",
    "print(\"Workspace Provisioning complete.\")\n",
    "\n",
    "\n",
    "# Create an experiment, log metrics and register the created models for multiple training runs\n",
    "experiment_name = \"Experiment-02-01\"\n",
    "training_set_percentage = 0.25\n",
    "model, score = train_eval_register_model(experiment_name, full_X, full_Y, training_set_percentage)\n",
    "\n",
    "experiment_name = \"Experiment-02-02\"\n",
    "training_set_percentage = 0.5\n",
    "model, score = train_eval_register_model(experiment_name, full_X, full_Y, training_set_percentage)\n",
    "\n",
    "experiment_name = \"Experiment-02-03\"\n",
    "training_set_percentage = 0.75\n",
    "model, score = train_eval_register_model(experiment_name, full_X, full_Y, training_set_percentage)\n",
    "\n"
   ]
  },
  {
   "cell_type": "markdown",
   "metadata": {},
   "source": [
    "## Use Azure Machine Learning to query for performance metrics"
   ]
  },
  {
   "cell_type": "markdown",
   "metadata": {},
   "source": [
    "As was demonstrated in the previous lab, you can use the Workspace to get a list of Experiments. You can also query for a particular Experiment by name. With an Experiment in hand, you review all runs associated with that Experiment and retrieve the metrics associated with each run. Execute the following cell| to see this process. What was the accuracy of the only run for Experiment-02-03?"
   ]
  },
  {
   "cell_type": "code",
   "execution_count": 7,
   "metadata": {},
   "outputs": [
    {
     "name": "stdout",
     "output_type": "stream",
     "text": [
      "{'GEAR-EXP': Experiment(Name: GEAR-EXP,\n",
      "Workspace: snml2), 'UsedCars_Experiment': Experiment(Name: UsedCars_Experiment,\n",
      "Workspace: snml2), 'Experiment-02-01': Experiment(Name: Experiment-02-01,\n",
      "Workspace: snml2), 'Experiment-02-02': Experiment(Name: Experiment-02-02,\n",
      "Workspace: snml2), 'Experiment-02-03': Experiment(Name: Experiment-02-03,\n",
      "Workspace: snml2)}\n",
      "Experiment(Name: Experiment-02-03,\n",
      "Workspace: snml2)\n",
      "[('Experiment-02-03', '9aff433e-5425-48e1-9806-271448988641', {'Training_Set_Percentage': 0.75, 'Accuracy': 0.9080779944289693})]\n"
     ]
    }
   ],
   "source": [
    "# Step 4 - Query for all Experiments.\n",
    "#####################################\n",
    "# You can retreive the list of all experiments in Workspace using the following:\n",
    "all_experiments = ws.experiments\n",
    "\n",
    "print(all_experiments)\n",
    "\n",
    "# Query for the metrics of a particular experiment\n",
    "# You can retrieve an existing experiment by constructing an Experiment object using the name of an existing experiment.\n",
    "my_experiment = Experiment(ws, \"Experiment-02-03\")\n",
    "print(my_experiment)\n",
    "\n",
    "# Query an experiment for metrics\n",
    "# With an experiment in hand, you retrieve any metrics collected for any of its child runs \n",
    "my_experiment_runs = my_experiment.get_runs()\n",
    "print( [ (run.experiment.name, run.id, run.get_metrics()) for run in my_experiment_runs] )"
   ]
  }
 ],
 "metadata": {
  "kernelspec": {
   "display_name": "Python 3",
   "language": "python",
   "name": "python3"
  },
  "language_info": {
   "codemirror_mode": {
    "name": "ipython",
    "version": 3
   },
   "file_extension": ".py",
   "mimetype": "text/x-python",
   "name": "python",
   "nbconvert_exporter": "python",
   "pygments_lexer": "ipython3",
   "version": "3.6.8"
  },
  "name": "01 model management",
  "notebookId": 3429556884310717
 },
 "nbformat": 4,
 "nbformat_minor": 1
}
